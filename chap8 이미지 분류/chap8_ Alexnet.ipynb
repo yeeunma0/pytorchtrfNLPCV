{
 "cells": [
  {
   "cell_type": "code",
   "execution_count": 2,
   "metadata": {},
   "outputs": [
    {
     "name": "stderr",
     "output_type": "stream",
     "text": [
      "Downloading: \"https://download.pytorch.org/models/alexnet-owt-7be5be79.pth\" to /Users/yeeun/.cache/torch/hub/checkpoints/alexnet-owt-7be5be79.pth\n",
      "100%|██████████| 233M/233M [00:45<00:00, 5.37MB/s] \n"
     ]
    },
    {
     "data": {
      "text/plain": [
       "==========================================================================================\n",
       "Layer (type:depth-idx)                   Output Shape              Param #\n",
       "==========================================================================================\n",
       "AlexNet                                  [1, 1000]                 --\n",
       "├─Sequential: 1-1                        [1, 256, 6, 6]            --\n",
       "│    └─Conv2d: 2-1                       [1, 64, 55, 55]           23,296\n",
       "│    └─ReLU: 2-2                         [1, 64, 55, 55]           --\n",
       "│    └─MaxPool2d: 2-3                    [1, 64, 27, 27]           --\n",
       "│    └─Conv2d: 2-4                       [1, 192, 27, 27]          307,392\n",
       "│    └─ReLU: 2-5                         [1, 192, 27, 27]          --\n",
       "│    └─MaxPool2d: 2-6                    [1, 192, 13, 13]          --\n",
       "│    └─Conv2d: 2-7                       [1, 384, 13, 13]          663,936\n",
       "│    └─ReLU: 2-8                         [1, 384, 13, 13]          --\n",
       "│    └─Conv2d: 2-9                       [1, 256, 13, 13]          884,992\n",
       "│    └─ReLU: 2-10                        [1, 256, 13, 13]          --\n",
       "│    └─Conv2d: 2-11                      [1, 256, 13, 13]          590,080\n",
       "│    └─ReLU: 2-12                        [1, 256, 13, 13]          --\n",
       "│    └─MaxPool2d: 2-13                   [1, 256, 6, 6]            --\n",
       "├─AdaptiveAvgPool2d: 1-2                 [1, 256, 6, 6]            --\n",
       "├─Sequential: 1-3                        [1, 1000]                 --\n",
       "│    └─Dropout: 2-14                     [1, 9216]                 --\n",
       "│    └─Linear: 2-15                      [1, 4096]                 37,752,832\n",
       "│    └─ReLU: 2-16                        [1, 4096]                 --\n",
       "│    └─Dropout: 2-17                     [1, 4096]                 --\n",
       "│    └─Linear: 2-18                      [1, 4096]                 16,781,312\n",
       "│    └─ReLU: 2-19                        [1, 4096]                 --\n",
       "│    └─Linear: 2-20                      [1, 1000]                 4,097,000\n",
       "==========================================================================================\n",
       "Total params: 61,100,840\n",
       "Trainable params: 61,100,840\n",
       "Non-trainable params: 0\n",
       "Total mult-adds (Units.MEGABYTES): 714.68\n",
       "==========================================================================================\n",
       "Input size (MB): 0.60\n",
       "Forward/backward pass size (MB): 3.95\n",
       "Params size (MB): 244.40\n",
       "Estimated Total Size (MB): 248.96\n",
       "=========================================================================================="
      ]
     },
     "execution_count": 2,
     "metadata": {},
     "output_type": "execute_result"
    }
   ],
   "source": [
    "# 8.1 알렉스넷 모델 구조 출력\n",
    "\n",
    "from torchvision import models\n",
    "from torchinfo import summary\n",
    "\n",
    "model = models.alexnet(weights=\"AlexNet_Weights.IMAGENET1K_V1\") #사전학습된 가중치 매개변수로 대규모 데이터셋에서 학습된 알렉스넷\n",
    "summary(model, (1,3,224,224), device=\"cpu\") #(1,3,224,224) 크기의 텐서를 입력했을 때 계층마다 출력하는 특징맵의 크기와 필요한 매개변수의 수를 보여줌"
   ]
  },
  {
   "cell_type": "code",
   "execution_count": 3,
   "metadata": {},
   "outputs": [
    {
     "name": "stdout",
     "output_type": "stream",
     "text": [
      "클래스 개수 : 1000\n",
      "첫 번째 클래스 레이블 tench\n"
     ]
    }
   ],
   "source": [
    "# 8.2 클래스 정보 파일 불러오기\n",
    "\n",
    "with open(\"../datasets/imagenet_classes.txt\",\"r\") as file:\n",
    "    classes = file.read().splitlines()\n",
    "\n",
    "print(f\"클래스 개수 : {len(classes)}\")\n",
    "print(f\"첫 번째 클래스 레이블 {classes[0]}\")"
   ]
  },
  {
   "cell_type": "code",
   "execution_count": 11,
   "metadata": {},
   "outputs": [
    {
     "name": "stdout",
     "output_type": "stream",
     "text": [
      "입력 텐서의 크기 : torch.Size([2, 3, 224, 224])\n"
     ]
    }
   ],
   "source": [
    "# 8.3 이미지 데이터 전처리\n",
    "\n",
    "import torch\n",
    "from PIL import Image\n",
    "from torchvision import models,transforms\n",
    "\n",
    "transform = transforms.Compose(\n",
    "    [\n",
    "        transforms.Resize((224,224)),\n",
    "        transforms.ToTensor(),\n",
    "        transforms.Normalize(\n",
    "            mean = [0.485, 0.456, 0.406],\n",
    "            std = [0.229, 0.224, 0.225]\n",
    "        ),\n",
    "    ]\n",
    ")\n",
    "\n",
    "device = \"cuda\" if torch.cuda.is_available() else \"cpu\"\n",
    "model = models.alexnet(weights=\"AlexNet_Weights.IMAGENET1K_V1\").eval().to(device)\n",
    "\n",
    "tensors = []\n",
    "files = [\"../datasets/images/airplane.jpg\",\"../datasets/images/bus.jpg\"]\n",
    "for file in files:\n",
    "    image = Image.open(file)\n",
    "    tensors.append(transform(image))\n",
    "\n",
    "tensors = torch.stack(tensors)\n",
    "print(f\"입력 텐서의 크기 : {tensors.shape}\")\n"
   ]
  },
  {
   "cell_type": "code",
   "execution_count": 17,
   "metadata": {},
   "outputs": [
    {
     "name": "stdout",
     "output_type": "stream",
     "text": [
      "../datasets/images/airplane.jpg 추론 결과\n",
      "-airliner                       : 73.45\n",
      "-warplane                       : 14.44\n",
      "-wing                           :  9.56\n",
      "-space shuttle                  :  1.94\n",
      "-missile                        :  0.25\n",
      "../datasets/images/bus.jpg 추론 결과\n",
      "-streetcar                      : 60.25\n",
      "-trolleybus                     : 37.99\n",
      "-minibus                        :  1.54\n",
      "-passenger car                  :  0.17\n",
      "-recreational vehicle           :  0.03\n"
     ]
    }
   ],
   "source": [
    "# 알렉스넷 모델 추론\n",
    "\n",
    "import numpy as np\n",
    "from torch.nn import functional as F\n",
    "\n",
    "with torch.no_grad(): #임의의 값으로 모델을 확인하므로 기울기 계산을 비활성화\n",
    "    outputs = model(tensors.to(device)) #[배치 크기, 출력클래스], 즉, [2,1000]\n",
    "    probs = F.softmax(outputs, dim=1)\n",
    "    top_probs, top_idxs = probs.topk(5)\n",
    "\n",
    "top_probs = top_probs.detach().cpu().numpy()\n",
    "top_idxs = top_idxs.detach().cpu().numpy()\n",
    "top_classes = np.array(classes)[top_idxs]\n",
    "\n",
    "for idx, (cls,prob) in enumerate(zip(top_classes, top_probs)):\n",
    "    print(f\"{files[idx]} 추론 결과\")\n",
    "    for c,p in zip(cls,prob):\n",
    "        print(f\"-{c:<30} : {p*100:>5.2f}\")"
   ]
  },
  {
   "cell_type": "code",
   "execution_count": null,
   "metadata": {},
   "outputs": [],
   "source": []
  }
 ],
 "metadata": {
  "kernelspec": {
   "display_name": "base",
   "language": "python",
   "name": "python3"
  },
  "language_info": {
   "codemirror_mode": {
    "name": "ipython",
    "version": 3
   },
   "file_extension": ".py",
   "mimetype": "text/x-python",
   "name": "python",
   "nbconvert_exporter": "python",
   "pygments_lexer": "ipython3",
   "version": "3.11.5"
  }
 },
 "nbformat": 4,
 "nbformat_minor": 2
}
