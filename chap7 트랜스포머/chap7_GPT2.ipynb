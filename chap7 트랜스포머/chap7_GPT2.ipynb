{
 "cells": [
  {
   "cell_type": "code",
   "execution_count": 2,
   "metadata": {},
   "outputs": [
    {
     "name": "stdout",
     "output_type": "stream",
     "text": [
      "transformer\n",
      "└ wte\n",
      "└ wpe\n",
      "└ drop\n",
      "└ h\n",
      "│  └ 0\n",
      "│  │  └ ln_1\n",
      "│  │  └ attn\n",
      "│  │  └ ln_2\n",
      "│  │  └ mlp\n",
      "│  └ 1\n",
      "│  │  └ ln_1\n",
      "│  │  └ attn\n",
      "│  │  └ ln_2\n",
      "│  │  └ mlp\n",
      "│  └ 2\n",
      "│  │  └ ln_1\n",
      "│  │  └ attn\n",
      "│  │  └ ln_2\n",
      "│  │  └ mlp\n",
      "│  └ 3\n",
      "│  │  └ ln_1\n",
      "│  │  └ attn\n",
      "│  │  └ ln_2\n",
      "│  │  └ mlp\n",
      "│  └ 4\n",
      "│  │  └ ln_1\n",
      "│  │  └ attn\n",
      "│  │  └ ln_2\n",
      "│  │  └ mlp\n",
      "│  └ 5\n",
      "│  │  └ ln_1\n",
      "│  │  └ attn\n",
      "│  │  └ ln_2\n",
      "│  │  └ mlp\n",
      "│  └ 6\n",
      "│  │  └ ln_1\n",
      "│  │  └ attn\n",
      "│  │  └ ln_2\n",
      "│  │  └ mlp\n",
      "│  └ 7\n",
      "│  │  └ ln_1\n",
      "│  │  └ attn\n",
      "│  │  └ ln_2\n",
      "│  │  └ mlp\n",
      "│  └ 8\n",
      "│  │  └ ln_1\n",
      "│  │  └ attn\n",
      "│  │  └ ln_2\n",
      "│  │  └ mlp\n",
      "│  └ 9\n",
      "│  │  └ ln_1\n",
      "│  │  └ attn\n",
      "│  │  └ ln_2\n",
      "│  │  └ mlp\n",
      "│  └ 10\n",
      "│  │  └ ln_1\n",
      "│  │  └ attn\n",
      "│  │  └ ln_2\n",
      "│  │  └ mlp\n",
      "│  └ 11\n",
      "│  │  └ ln_1\n",
      "│  │  └ attn\n",
      "│  │  └ ln_2\n",
      "│  │  └ mlp\n",
      "└ ln_f\n",
      "lm_head\n"
     ]
    }
   ],
   "source": [
    "\"\"\"문장 생성을 위한 GPT-2 모델의 구조\"\"\"\n",
    "\n",
    "from transformers import GPT2LMHeadModel\n",
    "#트랜스포머 라이브러리의 GPT2MHeadModel 클래스\n",
    "\n",
    "model = GPT2LMHeadModel.from_pretrained(pretrained_model_name_or_path=\"gpt2\")\n",
    "#사전 학습된 모델(pretrained_model_name_or_path)을 from_pretrained 메서드로 불러옴\n",
    "\n",
    "for main_name, main_module in model.named_children():\n",
    "    print(main_name)\n",
    "    for sub_name, sub_module in main_module.named_children():\n",
    "        print(\"└\",sub_name)\n",
    "        for ssub_name, ssub_module in sub_module.named_children():\n",
    "            print(\"│  └\", ssub_name)\n",
    "            for sssub_name, sssub_module in ssub_module.named_children():\n",
    "                print(\"│  │  └\",sssub_name)\n",
    "#실습 모델은 12개의 디코더 계층을 사용하는 간소화 모델\n",
    "#단어 토큰 임베딩(wte), 단어 위치 임베딩(wpe), 드롭아웃(drop), 트랜스포머 디코더 계층(h), 계층정규화(ln_), 어텐션 메커니즘(attn), 완전 연결 계층(mlp)(순방향 레이어), 선형 임베딩 및 언어 모델(lm_head)"
   ]
  },
  {
   "cell_type": "code",
   "execution_count": 4,
   "metadata": {},
   "outputs": [
    {
     "name": "stdout",
     "output_type": "stream",
     "text": [
      "[{'generated_text': 'Machine learning is about discovering patterns. To find the best path to solving these problems you need to apply'}, {'generated_text': 'Machine learning is the study of machine learning concepts which have been shown to have important applications in the fields'}, {'generated_text': \"Machine learning is at its earliest stage of life, and we've learned a lot about how to use\"}]\n"
     ]
    }
   ],
   "source": [
    "\"\"\"GPT-2를 이용한 문장 생성\"\"\"\n",
    "\n",
    "from transformers import pipeline \n",
    "\n",
    "generator = pipeline(task=\"text-generation\", model=\"gpt2\")\n",
    "#파이프라인 클래스는 입력된 작업(task)에 모델(model)로 적합한 파이프라인을 구축한다.\n",
    "outputs = generator(\n",
    "    text_inputs = \"Machine learning is\", #문장의 입력 문맥\n",
    "    max_length = 20, #최대 길이\n",
    "    num_return_sequences = 3, #변환 시퀀스 개수\n",
    "    pad_token_id = generator.tokenizer.eos_token_id #생성된 텍스트의 길이가 max_len보다 작으면 eos로 패딩 처리\n",
    ")\n",
    "print(outputs)"
   ]
  },
  {
   "cell_type": "code",
   "execution_count": 11,
   "metadata": {},
   "outputs": [
    {
     "name": "stdout",
     "output_type": "stream",
     "text": [
      "Train Dataset Length : 8550\n",
      "Valid Dataset Length : 526\n",
      "Test Dataset Length : 515\n"
     ]
    }
   ],
   "source": [
    "\"\"\"CoLA 데이터세트 불러오기\"\"\"\n",
    "\n",
    "import torch\n",
    "from torchtext.datasets import CoLA\n",
    "from transformers import AutoTokenizer\n",
    "from torch.utils.data import DataLoader\n",
    "\n",
    "def collator(batch, tokenizer, device):\n",
    "    source, labels, texts = zip(*batch)\n",
    "    tokenized = tokenizer(\n",
    "        texts,\n",
    "        padding = \"longest\", #패딩 : 가장 긴 시퀀스에 대해 패딩을 적용\n",
    "        truncation = True, #절사 : 입력 시퀀스 길이가 최대 길이를 초과하는 경우 해당 시퀀스를 자른다.\n",
    "        return_tensors = \"pt\" #반환 형식 설정 : 파이토치 텐서로 결과를 반환\n",
    "    )\n",
    "    input_ids = tokenized[\"input_ids\"].to(device)\n",
    "    attention_mask = tokenized[\"attention_mask\"].to(device)\n",
    "    labels = torch.tensor(labels, dtype=torch.long).to(device)\n",
    "    return input_ids, attention_mask, labels\n",
    "\n",
    "train_data = list(CoLA(split=\"train\"))\n",
    "valid_data = list(CoLA(split=\"dev\"))\n",
    "test_data = list(CoLA(split=\"test\"))\n",
    "\n",
    "tokenizer = AutoTokenizer.from_pretrained(\"gpt2\")\n",
    "tokenizer.pad_token = tokenizer.eos_token #gpt2는 사전 학습 시 패딩 기법을 사용하지 않기 때문에 토크나이저의 패딩토큰이 포함되어 있지 않아서 따로 추가함\n",
    "\n",
    "epochs = 3\n",
    "batch_size = 16\n",
    "device = \"cuda\" if torch.cuda.is_available() else \"cpu\"\n",
    "\n",
    "train_dataloader = DataLoader(\n",
    "    train_data,\n",
    "    batch_size = batch_size,\n",
    "    collate_fn = lambda x : collator(x, tokenizer, device),\n",
    "    shuffle=True\n",
    ")\n",
    "valid_dataloader = DataLoader(valid_data, batch_size, collate_fn=lambda x : collator(x, tokenizer, device))\n",
    "test_dataloader = DataLoader(test_data, batch_size, collate_fn=lambda x : collator(x, tokenizer, device))\n",
    "\n",
    "print(\"Train Dataset Length :\", len(train_data))\n",
    "print(\"Valid Dataset Length :\", len(valid_data))\n",
    "print(\"Test Dataset Length :\",len(test_data))"
   ]
  },
  {
   "cell_type": "code",
   "execution_count": 12,
   "metadata": {},
   "outputs": [
    {
     "name": "stderr",
     "output_type": "stream",
     "text": [
      "Some weights of GPT2ForSequenceClassification were not initialized from the model checkpoint at gpt2 and are newly initialized: ['score.weight']\n",
      "You should probably TRAIN this model on a down-stream task to be able to use it for predictions and inference.\n"
     ]
    }
   ],
   "source": [
    "\"\"\"GPT-2 모델 설정\"\"\"\n",
    "\n",
    "from torch import optim\n",
    "from transformers import GPT2ForSequenceClassification\n",
    "#GPT-2를 기반으로 하는 시퀀스 분류 모델\n",
    "\n",
    "model = GPT2ForSequenceClassification.from_pretrained(\n",
    "    pretrained_model_name_or_path=\"gpt2\",\n",
    "    num_labels = 2 #올바른 문장과 올바르지 않은 문장 분류를 위해 분류 레이블 수를 2로 설정\n",
    ").to(device)\n",
    "model.config.pad_token_id = model.config.eos_token_id #GPT2 모델에는 패딩 토큰 미포함. 따라서 포함시켜줌\n",
    "optimizer = optim.Adam(model.parameters(), lr=5e-5)"
   ]
  },
  {
   "cell_type": "code",
   "execution_count": 16,
   "metadata": {},
   "outputs": [
    {
     "name": "stdout",
     "output_type": "stream",
     "text": [
      "Epoch:1, Train loss: 0.3050, Val loss : 0.5303, Val accuracy: 0.7879\n",
      "Saved the model weights\n",
      "Epoch:2, Train loss: 0.2055, Val loss : 0.6521, Val accuracy: 0.7538\n",
      "Epoch:3, Train loss: 0.1451, Val loss : 0.7367, Val accuracy: 0.7787\n"
     ]
    }
   ],
   "source": [
    "\"\"\"GPT-2 모델 학습 및 검증\"\"\"\n",
    "\n",
    "import numpy as np\n",
    "from torch import nn\n",
    "\n",
    "def calc_accuracy(preds, labels):\n",
    "    pred_flat = np.argmax(preds, axis=1).flatten()\n",
    "    labels_flat = labels.flatten()\n",
    "    return np.sum(pred_flat == labels_flat)/len(labels_flat)\n",
    "\n",
    "def train(model, optimizer, dataloader):\n",
    "    model.train()\n",
    "    train_loss = 0.0\n",
    "    for input_ids, attention_mask, labels in dataloader:\n",
    "        outputs = model(\n",
    "            input_ids = input_ids,\n",
    "            attention_mask = attention_mask,\n",
    "            labels = labels\n",
    "        )\n",
    "\n",
    "        loss = outputs.loss\n",
    "        train_loss += loss.item()\n",
    "\n",
    "        optimizer.zero_grad()\n",
    "        loss.backward()\n",
    "        optimizer.step()\n",
    "\n",
    "    train_loss = train_loss / len(dataloader)\n",
    "    return train_loss\n",
    "\n",
    "def evaluation(model, dataloader):\n",
    "    with torch.no_grad():\n",
    "        model.eval()\n",
    "        criterion = nn.CrossEntropyLoss()\n",
    "        val_loss, val_accuracy = 0.0, 0.0\n",
    "\n",
    "        for input_ids, attention_mask, labels in dataloader:\n",
    "            outputs = model(\n",
    "                input_ids = input_ids,\n",
    "                attention_mask = attention_mask,\n",
    "                labels = labels\n",
    "            )\n",
    "            logits = outputs.logits\n",
    "\n",
    "            loss = criterion(logits, labels)\n",
    "            logits = logits.detach().cpu().numpy()\n",
    "            label_ids = labels.to(\"cpu\").numpy()\n",
    "            accuracy = calc_accuracy(logits, label_ids)\n",
    "\n",
    "            val_loss += loss\n",
    "            val_accuracy += accuracy\n",
    "\n",
    "    val_loss = val_loss/len(dataloader)\n",
    "    val_accuracy = val_accuracy/len(dataloader)\n",
    "    return val_loss, val_accuracy\n",
    "\n",
    "best_loss = 10000\n",
    "for epoch in range(epochs):\n",
    "    train_loss = train(model, optimizer, train_dataloader)\n",
    "    val_loss, val_accuracy = evaluation(model, valid_dataloader)\n",
    "    print(f\"Epoch:{epoch+1}, Train loss:{train_loss: .4f}, Val loss : {val_loss:.4f}, Val accuracy: {val_accuracy:.4f}\")\n",
    "\n",
    "    if val_loss < best_loss:\n",
    "        best_loss = val_loss\n",
    "        torch.save(model.state_dict(),\"models/GPT2ForSequenceClassification.pt\")\n",
    "        print(\"Saved the model weights\")"
   ]
  },
  {
   "cell_type": "code",
   "execution_count": 17,
   "metadata": {},
   "outputs": [
    {
     "name": "stderr",
     "output_type": "stream",
     "text": [
      "Some weights of GPT2ForSequenceClassification were not initialized from the model checkpoint at gpt2 and are newly initialized: ['score.weight']\n",
      "You should probably TRAIN this model on a down-stream task to be able to use it for predictions and inference.\n"
     ]
    },
    {
     "name": "stdout",
     "output_type": "stream",
     "text": [
      "Test_loss :  0.6494\n",
      "Test Accuracy :  0.7355\n"
     ]
    }
   ],
   "source": [
    "model = GPT2ForSequenceClassification.from_pretrained(\n",
    "    pretrained_model_name_or_path=\"gpt2\",\n",
    "    num_labels=2\n",
    ").to(device)\n",
    "model.config.pad_token_id = model.config.eos_token_id\n",
    "model.load_state_dict(torch.load(\"models/GPT2ForSequenceClassification.pt\"))\n",
    "\n",
    "test_loss, test_accuracy = evaluation(model, test_dataloader)\n",
    "print(f\"Test_loss : {test_loss : .4f}\")\n",
    "print(f\"Test Accuracy : {test_accuracy : .4f}\")"
   ]
  },
  {
   "cell_type": "code",
   "execution_count": null,
   "metadata": {},
   "outputs": [],
   "source": []
  }
 ],
 "metadata": {
  "kernelspec": {
   "display_name": "base",
   "language": "python",
   "name": "python3"
  },
  "language_info": {
   "codemirror_mode": {
    "name": "ipython",
    "version": 3
   },
   "file_extension": ".py",
   "mimetype": "text/x-python",
   "name": "python",
   "nbconvert_exporter": "python",
   "pygments_lexer": "ipython3",
   "version": "3.11.5"
  }
 },
 "nbformat": 4,
 "nbformat_minor": 2
}
